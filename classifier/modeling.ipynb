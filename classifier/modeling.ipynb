{
 "cells": [
  {
   "cell_type": "code",
   "execution_count": 1,
   "metadata": {},
   "outputs": [],
   "source": [
    "import os\n",
    "import warnings\n",
    "import pandas as pd\n",
    "import numpy as np\n",
    "from datetime import datetime\n",
    "\n",
    "import numpy as np\n",
    "import pywt\n",
    "import time\n",
    "import matplotlib.pyplot as plt\n",
    "import seaborn as sns\n",
    "from sklearn.metrics import confusion_matrix, make_scorer\n",
    "\n",
    "\n",
    "from pyts.classification import TimeSeriesForest\n",
    "from pyts.multivariate.classification import MultivariateClassifier\n",
    "from sklearn.model_selection import train_test_split\n",
    "import random\n",
    "\n",
    "\n",
    "from sklearn.model_selection import GridSearchCV\n",
    "\n",
    "\n",
    "warnings.filterwarnings(\"ignore\")"
   ]
  },
  {
   "cell_type": "code",
   "execution_count": 2,
   "metadata": {},
   "outputs": [
    {
     "name": "stdout",
     "output_type": "stream",
     "text": [
      "Number of files in FL: 1254\n"
     ]
    },
    {
     "data": {
      "text/plain": [
       "((1254, 60, 5), (1254,))"
      ]
     },
     "execution_count": 2,
     "metadata": {},
     "output_type": "execute_result"
    }
   ],
   "source": [
    "# Specify the directory path\n",
    "folder_dir = 'partition1/FL'\n",
    "files = os.listdir(folder_dir)\n",
    "print(\"Number of files in FL:\",len(files))\n",
    "\n",
    "fl_X_data = []\n",
    "\n",
    "for file in files:\n",
    "    df_tmp = pd.read_csv(folder_dir + \"/\" + file, sep='\\\\t')\n",
    "    df_tmp = df_tmp[['TOTUSJH', 'TOTBSQ', 'TOTPOT', 'TOTUSJZ', 'ABSNJZH']]\n",
    "\n",
    "    # interpolation\n",
    "    array = df_tmp.to_numpy()\n",
    "    interpolated_array = np.apply_along_axis(\n",
    "        lambda column: np.interp(np.arange(len(column)), np.where(~np.isnan(column))[0], column[~np.isnan(column)]),\n",
    "        axis=0,\n",
    "        arr=array\n",
    "    )\n",
    "    df_interpolated = pd.DataFrame(interpolated_array, columns=df_tmp.columns)\n",
    "\n",
    "\n",
    "    fl_X_data.append(df_interpolated.values)\n",
    "\n",
    "fl_y_data = np.array(['FL']*len(fl_X_data))\n",
    "fl_X_data = np.array(fl_X_data)\n",
    "\n",
    "fl_X_data.shape, fl_y_data.shape"
   ]
  },
  {
   "cell_type": "code",
   "execution_count": 3,
   "metadata": {},
   "outputs": [
    {
     "name": "stdout",
     "output_type": "stream",
     "text": [
      "Number of files in NF: 72238\n"
     ]
    },
    {
     "data": {
      "text/plain": [
       "((72238, 60, 5), (72238,))"
      ]
     },
     "execution_count": 3,
     "metadata": {},
     "output_type": "execute_result"
    }
   ],
   "source": [
    "# Specify the directory path\n",
    "folder_dir = 'partition1/NF'\n",
    "files = os.listdir(folder_dir)\n",
    "print(\"Number of files in NF:\",len(files))\n",
    "\n",
    "nf_X_data = []\n",
    "\n",
    "for file in files:\n",
    "    df_tmp = pd.read_csv(folder_dir + \"/\" + file, sep='\\\\t')\n",
    "    df_tmp = df_tmp[['TOTUSJH', 'TOTBSQ', 'TOTPOT', 'TOTUSJZ', 'ABSNJZH']]\n",
    "\n",
    "    # interpolation\n",
    "    array = df_tmp.to_numpy()\n",
    "    interpolated_array = np.apply_along_axis(\n",
    "        lambda column: np.interp(np.arange(len(column)), np.where(~np.isnan(column))[0], column[~np.isnan(column)]),\n",
    "        axis=0,\n",
    "        arr=array\n",
    "    )\n",
    "    df_interpolated = pd.DataFrame(interpolated_array, columns=df_tmp.columns)\n",
    "\n",
    "\n",
    "    nf_X_data.append(df_interpolated.values)\n",
    "\n",
    "nf_y_data = np.array(['NF']*len(nf_X_data))\n",
    "nf_X_data = np.array(nf_X_data)\n",
    "\n",
    "nf_X_data.shape, nf_y_data.shape"
   ]
  },
  {
   "cell_type": "markdown",
   "metadata": {},
   "source": [
    "## multivariate modelling - all partition1 data"
   ]
  },
  {
   "cell_type": "markdown",
   "metadata": {},
   "source": [
    "### class imbalance and train test split"
   ]
  },
  {
   "cell_type": "code",
   "execution_count": 4,
   "metadata": {},
   "outputs": [
    {
     "name": "stdout",
     "output_type": "stream",
     "text": [
      "\n",
      "X Train shape: (73492, 60, 5)\n",
      "y Train shape: (73492,)\n"
     ]
    }
   ],
   "source": [
    "import numpy as np\n",
    "from sklearn.model_selection import train_test_split\n",
    "\n",
    "# Combine the training sets\n",
    "X_train_combined = np.concatenate((fl_X_data, nf_X_data), axis=0)\n",
    "y_train_combined = np.concatenate((fl_y_data, nf_y_data))\n",
    "\n",
    "print(f\"\\nX Train shape: {X_train_combined.shape}\")\n",
    "print(f\"y Train shape: {y_train_combined.shape}\")"
   ]
  },
  {
   "cell_type": "code",
   "execution_count": null,
   "metadata": {},
   "outputs": [],
   "source": [
    "from pyts.classification import TimeSeriesForest\n",
    "from pyts.multivariate.classification import MultivariateClassifier\n",
    "\n",
    "clf = MultivariateClassifier(TimeSeriesForest())\n",
    "clf.fit(X_train_combined, y_train_combined)"
   ]
  },
  {
   "cell_type": "code",
   "execution_count": 11,
   "metadata": {},
   "outputs": [
    {
     "name": "stdout",
     "output_type": "stream",
     "text": [
      "              precision    recall  f1-score   support\n",
      "\n",
      "          FL       0.40      0.97      0.56       155\n",
      "          NF       1.00      0.99      0.99     21894\n",
      "\n",
      "    accuracy                           0.99     22049\n",
      "   macro avg       0.70      0.98      0.78     22049\n",
      "weighted avg       1.00      0.99      0.99     22049\n",
      "\n",
      "0.9894779808608101\n"
     ]
    }
   ],
   "source": [
    "from sklearn.metrics import classification_report, f1_score, accuracy_score\n",
    "\n",
    "y_pred = clf.predict(X_test_combined)\n",
    "print(classification_report(y_pred, y_test_combined))\n",
    "#print(f1_score(y_pred, y_test_combined))\n",
    "print(accuracy_score(y_pred, y_test_combined))"
   ]
  },
  {
   "cell_type": "code",
   "execution_count": 9,
   "metadata": {},
   "outputs": [
    {
     "name": "stdout",
     "output_type": "stream",
     "text": [
      "True Skill Statistic (TSS): 0.3976472716448658\n",
      "Heidke Skill Score (HSS): 0.5595211585990353\n"
     ]
    }
   ],
   "source": [
    "# Calculate confusion matrix\n",
    "conf_matrix = confusion_matrix(y_test_combined, y_pred)\n",
    "TP, TN, FP, FN = conf_matrix[1, 1], conf_matrix[0, 0], conf_matrix[0, 1], conf_matrix[1, 0]\n",
    "\n",
    "# Calculate True Skill Statistic (TSS)\n",
    "sensitivity = TP / (TP + FN)\n",
    "specificity = TN / (TN + FP)\n",
    "TSS = sensitivity + specificity - 1\n",
    "\n",
    "# Calculate Heidke Skill Score (HSS)\n",
    "HSS = (2 * (TP * TN - FP * FN)) / ((TP + FN) * (FN + TN) + (TP + FP) * (FP + TN))\n",
    "\n",
    "print(f\"True Skill Statistic (TSS): {TSS}\")\n",
    "print(f\"Heidke Skill Score (HSS): {HSS}\")"
   ]
  },
  {
   "cell_type": "markdown",
   "metadata": {},
   "source": [
    "## multivariate modelling - sample of data"
   ]
  },
  {
   "cell_type": "code",
   "execution_count": 4,
   "metadata": {},
   "outputs": [
    {
     "name": "stdout",
     "output_type": "stream",
     "text": [
      "FL data points: (877, 60, 5) (377, 60, 5) (877,) (377,)\n",
      "NF data points: (1050, 60, 5) (450, 60, 5) (1050,) (450,)\n",
      "\n",
      "X Train shape: (1927, 60, 5) and test shape: (827, 60, 5)\n",
      "y Train shape: (1927,) and test shape: (827,)\n"
     ]
    }
   ],
   "source": [
    "import numpy as np\n",
    "from sklearn.model_selection import train_test_split\n",
    "import random\n",
    "\n",
    "indices_true_train, indices_true_test = train_test_split(\n",
    "    np.arange(len(fl_X_data)),\n",
    "    test_size=0.3,\n",
    "    random_state=42\n",
    ")\n",
    "\n",
    "X_true_train = fl_X_data[indices_true_train]\n",
    "X_true_test = fl_X_data[indices_true_test]\n",
    "y_true_train = fl_y_data[indices_true_train]\n",
    "y_true_test = fl_y_data[indices_true_test]\n",
    "\n",
    "print(\"FL data points:\",X_true_train.shape, X_true_test.shape, y_true_train.shape, y_true_test.shape)\n",
    "\n",
    "# Subsample false class data to match the size of true class data\n",
    "random_indices = random.sample(range(len(nf_X_data)), 1500)\n",
    "\n",
    "false_class_data_subsampled = np.array([nf_X_data[i] for i in random_indices])\n",
    "nf_y_subsampled = [nf_y_data[i] for i in random_indices]\n",
    "\n",
    "# Split false class data into training and testing sets\n",
    "indices_false_train, indices_false_test = train_test_split(\n",
    "    np.arange(len(false_class_data_subsampled)),\n",
    "    test_size=0.3,\n",
    "    random_state=42\n",
    ")\n",
    "\n",
    "X_false_train = false_class_data_subsampled[indices_false_train]\n",
    "X_false_test = false_class_data_subsampled[indices_false_test]\n",
    "y_false_train = np.array(['NF']*len(indices_false_train))\n",
    "y_false_test = np.array(['NF']*len(indices_false_test))\n",
    "\n",
    "print(\"NF data points:\",X_false_train.shape, X_false_test.shape, y_false_train.shape, y_false_test.shape)\n",
    "\n",
    "# Combine the training sets\n",
    "X_train_combined = np.concatenate((X_true_train, X_false_train), axis=0)\n",
    "y_train_combined = np.concatenate((y_true_train, y_false_train))\n",
    "# Combine the testing sets\n",
    "X_test_combined = np.concatenate((X_true_test, X_false_test), axis=0)\n",
    "y_test_combined = np.concatenate((y_true_test, y_false_test))\n",
    "\n",
    "print(f\"\\nX Train shape: {X_train_combined.shape} and test shape: {X_test_combined.shape}\")\n",
    "print(f\"y Train shape: {y_train_combined.shape} and test shape: {y_test_combined.shape}\")"
   ]
  },
  {
   "cell_type": "code",
   "execution_count": 16,
   "metadata": {},
   "outputs": [
    {
     "name": "stdout",
     "output_type": "stream",
     "text": [
      "(2508, 60, 5) (2508,)\n"
     ]
    }
   ],
   "source": [
    "nf_random_indices = random.sample(range(len(nf_X_data)), 1254)\n",
    "\n",
    "nf_random_X_data_subsampled = np.array([nf_X_data[i] for i in nf_random_indices])\n",
    "nf_y_subsampled = np.array([\"NF\"]*len(nf_random_X_data_subsampled))\n",
    "\n",
    "# combina fl and nf data sets\n",
    "X_combined = np.concatenate((fl_X_data, nf_random_X_data_subsampled), axis=0)\n",
    "y_combined = np.concatenate((fl_y_data, nf_y_subsampled))\n",
    "\n",
    "print(X_combined.shape, y_combined.shape)"
   ]
  },
  {
   "cell_type": "markdown",
   "metadata": {},
   "source": [
    "## Grid search CV"
   ]
  },
  {
   "cell_type": "markdown",
   "metadata": {},
   "source": [
    "## custom scoring"
   ]
  },
  {
   "cell_type": "code",
   "execution_count": 17,
   "metadata": {},
   "outputs": [],
   "source": [
    "def generating_scores(y_test, y_pred):\n",
    "    # Calculate confusion matrix\n",
    "    conf_matrix = confusion_matrix(y_test, y_pred)\n",
    "    TP, TN, FP, FN = conf_matrix[1, 1], conf_matrix[0, 0], conf_matrix[0, 1], conf_matrix[1, 0]\n",
    "\n",
    "    # Calculate Heidke Skill Score (HSS)\n",
    "    HSS = (2 * (TP * TN - FP * FN)) / ((TP + FN) * (FN + TN) + (TP + FP) * (FP + TN))\n",
    "\n",
    "    # Calculate True Skill Statistic (TSS)\n",
    "    sensitivity = TP / (TP + FN)\n",
    "    specificity = TN / (TN + FP)\n",
    "    TSS = sensitivity + specificity - 1\n",
    "\n",
    "    return conf_matrix, HSS, TSS"
   ]
  },
  {
   "cell_type": "code",
   "execution_count": 21,
   "metadata": {},
   "outputs": [],
   "source": [
    "def custom_scoring_function(y_true, y_pred):\n",
    "\n",
    "    conf_matrix = confusion_matrix(y_true, y_pred)\n",
    "    TP, TN, FP, FN = conf_matrix[1, 1], conf_matrix[0, 0], conf_matrix[0, 1], conf_matrix[1, 0]\n",
    "    HSS = (2 * (TP * TN - FP * FN)) / ((TP + FN) * (FN + TN) + (TP + FP) * (FP + TN))\n",
    "\n",
    "    return HSS\n",
    "\n",
    "# Make a scorer using the custom scoring function\n",
    "custom_scorer_hss = make_scorer(custom_scoring_function)"
   ]
  },
  {
   "cell_type": "code",
   "execution_count": 26,
   "metadata": {},
   "outputs": [
    {
     "name": "stdout",
     "output_type": "stream",
     "text": [
      "Best parameters found:  {'estimator__max_depth': None, 'estimator__min_window_size': 1, 'estimator__n_estimators': 600, 'estimator__n_windows': 60}\n",
      "Best HSS score: 0.8556618819776715\n"
     ]
    }
   ],
   "source": [
    "# Specify the classifier and its parameters\n",
    "base_classifier = TimeSeriesForest()\n",
    "classifier = MultivariateClassifier(base_classifier)\n",
    "\n",
    "# Define the parameter grid for GridSearchCV\n",
    "\n",
    "param_grid = {\n",
    "'estimator__n_windows' : [5,10,15,20,25,30,35,40,45,50,55,60],\n",
    "'estimator__min_window_size' : [1,2,3],\n",
    "'estimator__max_depth' : [None, 3,5],\n",
    "'estimator__n_estimators': [150]\n",
    "}\n",
    "\n",
    "grid_search = GridSearchCV(classifier, param_grid, scoring=custom_scorer_hss, cv=3)\n",
    "\n",
    "grid_search.fit(X_combined, y_combined)\n",
    "\n",
    "print(\"Best parameters found: \", grid_search.best_params_)\n",
    "print(f\"Best HSS score: {grid_search.best_score_}\")"
   ]
  },
  {
   "cell_type": "code",
   "execution_count": null,
   "metadata": {},
   "outputs": [],
   "source": [
    "Best parameters found:  {'estimator__max_depth': None, 'estimator__min_window_size': 1, 'estimator__n_estimators': 600, 'estimator__n_windows': 60}\n",
    "Best HSS score: 0.8564593301435407"
   ]
  },
  {
   "cell_type": "code",
   "execution_count": 27,
   "metadata": {},
   "outputs": [
    {
     "data": {
      "text/html": [
       "<style>#sk-container-id-1 {color: black;}#sk-container-id-1 pre{padding: 0;}#sk-container-id-1 div.sk-toggleable {background-color: white;}#sk-container-id-1 label.sk-toggleable__label {cursor: pointer;display: block;width: 100%;margin-bottom: 0;padding: 0.3em;box-sizing: border-box;text-align: center;}#sk-container-id-1 label.sk-toggleable__label-arrow:before {content: \"▸\";float: left;margin-right: 0.25em;color: #696969;}#sk-container-id-1 label.sk-toggleable__label-arrow:hover:before {color: black;}#sk-container-id-1 div.sk-estimator:hover label.sk-toggleable__label-arrow:before {color: black;}#sk-container-id-1 div.sk-toggleable__content {max-height: 0;max-width: 0;overflow: hidden;text-align: left;background-color: #f0f8ff;}#sk-container-id-1 div.sk-toggleable__content pre {margin: 0.2em;color: black;border-radius: 0.25em;background-color: #f0f8ff;}#sk-container-id-1 input.sk-toggleable__control:checked~div.sk-toggleable__content {max-height: 200px;max-width: 100%;overflow: auto;}#sk-container-id-1 input.sk-toggleable__control:checked~label.sk-toggleable__label-arrow:before {content: \"▾\";}#sk-container-id-1 div.sk-estimator input.sk-toggleable__control:checked~label.sk-toggleable__label {background-color: #d4ebff;}#sk-container-id-1 div.sk-label input.sk-toggleable__control:checked~label.sk-toggleable__label {background-color: #d4ebff;}#sk-container-id-1 input.sk-hidden--visually {border: 0;clip: rect(1px 1px 1px 1px);clip: rect(1px, 1px, 1px, 1px);height: 1px;margin: -1px;overflow: hidden;padding: 0;position: absolute;width: 1px;}#sk-container-id-1 div.sk-estimator {font-family: monospace;background-color: #f0f8ff;border: 1px dotted black;border-radius: 0.25em;box-sizing: border-box;margin-bottom: 0.5em;}#sk-container-id-1 div.sk-estimator:hover {background-color: #d4ebff;}#sk-container-id-1 div.sk-parallel-item::after {content: \"\";width: 100%;border-bottom: 1px solid gray;flex-grow: 1;}#sk-container-id-1 div.sk-label:hover label.sk-toggleable__label {background-color: #d4ebff;}#sk-container-id-1 div.sk-serial::before {content: \"\";position: absolute;border-left: 1px solid gray;box-sizing: border-box;top: 0;bottom: 0;left: 50%;z-index: 0;}#sk-container-id-1 div.sk-serial {display: flex;flex-direction: column;align-items: center;background-color: white;padding-right: 0.2em;padding-left: 0.2em;position: relative;}#sk-container-id-1 div.sk-item {position: relative;z-index: 1;}#sk-container-id-1 div.sk-parallel {display: flex;align-items: stretch;justify-content: center;background-color: white;position: relative;}#sk-container-id-1 div.sk-item::before, #sk-container-id-1 div.sk-parallel-item::before {content: \"\";position: absolute;border-left: 1px solid gray;box-sizing: border-box;top: 0;bottom: 0;left: 50%;z-index: -1;}#sk-container-id-1 div.sk-parallel-item {display: flex;flex-direction: column;z-index: 1;position: relative;background-color: white;}#sk-container-id-1 div.sk-parallel-item:first-child::after {align-self: flex-end;width: 50%;}#sk-container-id-1 div.sk-parallel-item:last-child::after {align-self: flex-start;width: 50%;}#sk-container-id-1 div.sk-parallel-item:only-child::after {width: 0;}#sk-container-id-1 div.sk-dashed-wrapped {border: 1px dashed gray;margin: 0 0.4em 0.5em 0.4em;box-sizing: border-box;padding-bottom: 0.4em;background-color: white;}#sk-container-id-1 div.sk-label label {font-family: monospace;font-weight: bold;display: inline-block;line-height: 1.2em;}#sk-container-id-1 div.sk-label-container {text-align: center;}#sk-container-id-1 div.sk-container {/* jupyter's `normalize.less` sets `[hidden] { display: none; }` but bootstrap.min.css set `[hidden] { display: none !important; }` so we also need the `!important` here to be able to override the default hidden behavior on the sphinx rendered scikit-learn.org. See: https://github.com/scikit-learn/scikit-learn/issues/21755 */display: inline-block !important;position: relative;}#sk-container-id-1 div.sk-text-repr-fallback {display: none;}</style><div id=\"sk-container-id-1\" class=\"sk-top-container\"><div class=\"sk-text-repr-fallback\"><pre>MultivariateClassifier(estimator=TimeSeriesForest(n_estimators=600,\n",
       "                                                  n_windows=60,\n",
       "                                                  random_state=25))</pre><b>In a Jupyter environment, please rerun this cell to show the HTML representation or trust the notebook. <br />On GitHub, the HTML representation is unable to render, please try loading this page with nbviewer.org.</b></div><div class=\"sk-container\" hidden><div class=\"sk-item sk-dashed-wrapped\"><div class=\"sk-label-container\"><div class=\"sk-label sk-toggleable\"><input class=\"sk-toggleable__control sk-hidden--visually\" id=\"sk-estimator-id-1\" type=\"checkbox\" ><label for=\"sk-estimator-id-1\" class=\"sk-toggleable__label sk-toggleable__label-arrow\">MultivariateClassifier</label><div class=\"sk-toggleable__content\"><pre>MultivariateClassifier(estimator=TimeSeriesForest(n_estimators=600,\n",
       "                                                  n_windows=60,\n",
       "                                                  random_state=25))</pre></div></div></div><div class=\"sk-parallel\"><div class=\"sk-parallel-item\"><div class=\"sk-item\"><div class=\"sk-label-container\"><div class=\"sk-label sk-toggleable\"><input class=\"sk-toggleable__control sk-hidden--visually\" id=\"sk-estimator-id-2\" type=\"checkbox\" ><label for=\"sk-estimator-id-2\" class=\"sk-toggleable__label sk-toggleable__label-arrow\">estimator: TimeSeriesForest</label><div class=\"sk-toggleable__content\"><pre>TimeSeriesForest(n_estimators=600, n_windows=60, random_state=25)</pre></div></div></div><div class=\"sk-serial\"><div class=\"sk-item\"><div class=\"sk-estimator sk-toggleable\"><input class=\"sk-toggleable__control sk-hidden--visually\" id=\"sk-estimator-id-3\" type=\"checkbox\" ><label for=\"sk-estimator-id-3\" class=\"sk-toggleable__label sk-toggleable__label-arrow\">TimeSeriesForest</label><div class=\"sk-toggleable__content\"><pre>TimeSeriesForest(n_estimators=600, n_windows=60, random_state=25)</pre></div></div></div></div></div></div></div></div></div></div>"
      ],
      "text/plain": [
       "MultivariateClassifier(estimator=TimeSeriesForest(n_estimators=600,\n",
       "                                                  n_windows=60,\n",
       "                                                  random_state=25))"
      ]
     },
     "execution_count": 27,
     "metadata": {},
     "output_type": "execute_result"
    }
   ],
   "source": [
    "#train the model\n",
    "clf = MultivariateClassifier(TimeSeriesForest(max_depth=None, min_window_size=1, n_windows = 60, n_estimators=600, random_state=25))\n",
    "clf.fit(X_combined, y_combined)"
   ]
  },
  {
   "cell_type": "markdown",
   "metadata": {},
   "source": [
    "## test on other partitions"
   ]
  },
  {
   "cell_type": "code",
   "execution_count": 51,
   "metadata": {},
   "outputs": [
    {
     "name": "stdout",
     "output_type": "stream",
     "text": [
      "Number of files in FL: 1165\n",
      "(1165, 60, 5) (1165,)\n",
      "Number of files in NF: 50096\n"
     ]
    },
    {
     "data": {
      "text/plain": [
       "((50096, 60, 5), (50096,))"
      ]
     },
     "execution_count": 51,
     "metadata": {},
     "output_type": "execute_result"
    }
   ],
   "source": [
    "# Specify the directory path\n",
    "\n",
    "partition = \"partition4\"\n",
    "\n",
    "folder_dir = f'/Users/Manya/Desktop/GRA DMLab/SWAN-SF dataset/{partition}/FL'\n",
    "files = os.listdir(folder_dir)\n",
    "print(\"Number of files in FL:\",len(files))\n",
    "\n",
    "fl_X_data_part2 = []\n",
    "\n",
    "for file in files:\n",
    "    df_tmp = pd.read_csv(folder_dir + \"/\" + file, sep='\\\\t')\n",
    "    df_tmp = df_tmp[['TOTUSJH', 'TOTBSQ', 'TOTPOT', 'TOTUSJZ', 'ABSNJZH']]\n",
    "\n",
    "    # interpolation\n",
    "    array = df_tmp.to_numpy()\n",
    "    interpolated_array = np.apply_along_axis(\n",
    "        lambda column: np.interp(np.arange(len(column)), np.where(~np.isnan(column))[0], column[~np.isnan(column)]),\n",
    "        axis=0,\n",
    "        arr=array\n",
    "    )\n",
    "    df_interpolated = pd.DataFrame(interpolated_array, columns=df_tmp.columns)\n",
    "\n",
    "\n",
    "    fl_X_data_part2.append(df_interpolated.values)\n",
    "\n",
    "fl_y_data_part2 = np.array(['FL']*len(fl_X_data_part2))\n",
    "fl_X_data_part2 = np.array(fl_X_data_part2)\n",
    "\n",
    "print(fl_X_data_part2.shape, fl_y_data_part2.shape)\n",
    "\n",
    "# Specify the directory path\n",
    "folder_dir = f'/Users/Manya/Desktop/GRA DMLab/SWAN-SF dataset/{partition}/NF'\n",
    "files = os.listdir(folder_dir)\n",
    "print(\"Number of files in NF:\",len(files))\n",
    "\n",
    "nf_X_data_part2 = []\n",
    "\n",
    "for file in files:\n",
    "    df_tmp = pd.read_csv(folder_dir + \"/\" + file, sep='\\\\t')\n",
    "    df_tmp = df_tmp[['TOTUSJH', 'TOTBSQ', 'TOTPOT', 'TOTUSJZ', 'ABSNJZH']]\n",
    "\n",
    "    # interpolation\n",
    "    array = df_tmp.to_numpy()\n",
    "    interpolated_array = np.apply_along_axis(\n",
    "        lambda column: np.interp(np.arange(len(column)), np.where(~np.isnan(column))[0], column[~np.isnan(column)]),\n",
    "        axis=0,\n",
    "        arr=array\n",
    "    )\n",
    "    df_interpolated = pd.DataFrame(interpolated_array, columns=df_tmp.columns)\n",
    "\n",
    "    nf_X_data_part2.append(df_interpolated.values)\n",
    "\n",
    "nf_y_data_part2 = np.array(['NF']*len(nf_X_data_part2))\n",
    "nf_X_data_part2 = np.array(nf_X_data_part2)\n",
    "\n",
    "nf_X_data_part2.shape, nf_y_data_part2.shape"
   ]
  },
  {
   "cell_type": "code",
   "execution_count": 52,
   "metadata": {},
   "outputs": [
    {
     "name": "stdout",
     "output_type": "stream",
     "text": [
      "(2330, 60, 5) (2330,)\n"
     ]
    }
   ],
   "source": [
    "nf_random_indices_part2 = random.sample(range(len(nf_X_data_part2)), 1165)\n",
    "\n",
    "nf_random_X_data_subsampled_part2 = np.array([nf_X_data_part2[i] for i in nf_random_indices_part2])\n",
    "nf_y_subsampled_part2 = np.array([\"NF\"]*len(nf_random_X_data_subsampled_part2))\n",
    "\n",
    "# combine fl and nf data sets\n",
    "X_combined_part2 = np.concatenate((fl_X_data_part2, nf_random_X_data_subsampled_part2), axis=0)\n",
    "y_combined_part2 = np.concatenate((fl_y_data_part2, nf_y_subsampled_part2))\n",
    "\n",
    "print(X_combined_part2.shape, y_combined_part2.shape)"
   ]
  },
  {
   "cell_type": "code",
   "execution_count": 53,
   "metadata": {},
   "outputs": [
    {
     "name": "stdout",
     "output_type": "stream",
     "text": [
      "HSS:  0.7184549356223175\n",
      "TSS:  0.7184549356223178\n"
     ]
    },
    {
     "data": {
      "image/png": "[encoded data removed]",
      "text/plain": [
       "<Figure size 640x480 with 2 Axes>"
      ]
     },
     "metadata": {},
     "output_type": "display_data"
    }
   ],
   "source": [
    "y_pred = clf.predict(X_combined_part2)\n",
    "conf_matrix, hss_score, tss_score = generating_scores(y_combined_part2, y_pred)\n",
    "hss_score, tss_score\n",
    "\n",
    "# Plot the confusion matrix as a heatmap\n",
    "sns.heatmap(conf_matrix, annot=True, fmt='d', cmap='Blues', \n",
    "            xticklabels=['FL', 'NF'],\n",
    "            yticklabels=['FL', 'NF'])\n",
    "\n",
    "print(\"HSS: \", hss_score)\n",
    "print(\"TSS: \", tss_score)\n",
    "\n",
    "plt.xlabel(\"Predicted\")\n",
    "plt.ylabel(\"Actual\")\n",
    "plt.show()"
   ]
  },
  {
   "cell_type": "code",
   "execution_count": 56,
   "metadata": {},
   "outputs": [
    {
     "data": {
      "image/png": "[encoded data removed]",
      "text/plain": [
       "<Figure size 640x480 with 1 Axes>"
      ]
     },
     "metadata": {},
     "output_type": "display_data"
    }
   ],
   "source": [
    "import matplotlib.pyplot as plt\n",
    "import numpy as np\n",
    "\n",
    "# Dataset\n",
    "partitions = ['Partition 2 (unbalanced)', 'Partition 2 (balanced)', 'Partition 3 (unbalanced)', 'Partition 3 (balanced)',\n",
    "              'Partition 4 (unbalanced)', 'Partition 4 (balanced)', 'Partition 5 (unbalanced)', 'Partition 5 (balanced)']\n",
    "\n",
    "hss_values = [0.1727, 0.74, 0.2672, 0.764, 0.2034, 0.7184, 0.2284, 0.8929]\n",
    "tss_values = [0.7439, 0.7399, 0.7777, 0.764, 0.7186, 0.7184, 0.8937, 0.8929]\n",
    "\n",
    "# Bar graph\n",
    "bar_width = 0.35\n",
    "index = np.arange(len(partitions))\n",
    "\n",
    "fig, ax = plt.subplots()\n",
    "bar1 = ax.bar(index, hss_values, bar_width, label='HSS')\n",
    "bar2 = ax.bar(index + bar_width, tss_values, bar_width, label='TSS')\n",
    "\n",
    "ax.set_xlabel('Test Partitions')\n",
    "ax.set_ylabel('Values')\n",
    "ax.set_title('HSS and TSS for Different Partitions')\n",
    "ax.set_xticks(index + bar_width / 2)\n",
    "ax.set_xticklabels(partitions, rotation=45, ha=\"right\")\n",
    "ax.legend()\n",
    "\n",
    "plt.tight_layout()\n",
    "plt.show()"
   ]
  },
  {
   "cell_type": "code",
   "execution_count": null,
   "metadata": {},
   "outputs": [],
   "source": []
  }
 ],
 "metadata": {
  "kernelspec": {
   "display_name": "Python 3",
   "language": "python",
   "name": "python3"
  },
  "language_info": {
   "codemirror_mode": {
    "name": "ipython",
    "version": 3
   },
   "file_extension": ".py",
   "mimetype": "text/x-python",
   "name": "python",
   "nbconvert_exporter": "python",
   "pygments_lexer": "ipython3",
   "version": "3.9.6"
  }
 },
 "nbformat": 4,
 "nbformat_minor": 2
}
